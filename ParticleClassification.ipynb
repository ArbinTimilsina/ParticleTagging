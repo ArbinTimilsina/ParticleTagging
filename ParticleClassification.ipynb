{
 "cells": [
  {
   "cell_type": "markdown",
   "metadata": {},
   "source": [
    "# Particle Tagging"
   ]
  },
  {
   "cell_type": "markdown",
   "metadata": {},
   "source": [
    "## Classification"
   ]
  },
  {
   "cell_type": "markdown",
   "metadata": {},
   "source": [
    "### Configure data reader"
   ]
  },
  {
   "cell_type": "code",
   "execution_count": null,
   "metadata": {},
   "outputs": [],
   "source": [
    "import ROOT\n",
    "from larcv import larcv\n",
    "from larcv.dataloader2 import larcv_threadio\n",
    "import time\n",
    "import numpy\n",
    "\n",
    "# For training dataset\n",
    "\n",
    "TRAIN_BATCH_SIZE = 50\n",
    "\n",
    "train_io = larcv_threadio()  # create io interface\n",
    "train_io_cfg = {'filler_name' : 'TrainIO',\n",
    "                'verbosity'   : 0,\n",
    "                'filler_cfg'  : 'Configuration/classification_train_io_configuration.cfg'}\n",
    "train_io.configure(train_io_cfg)   # configure\n",
    "train_io.start_manager(TRAIN_BATCH_SIZE) # start read thread\n",
    "time.sleep(2)\n",
    "train_io.next()"
   ]
  },
  {
   "cell_type": "code",
   "execution_count": null,
   "metadata": {},
   "outputs": [],
   "source": [
    "img = train_io.fetch_data(\"train_image\")\n",
    "lbl = train_io.fetch_data(\"train_label\")\n",
    "\n",
    "print(img.dim())\n",
    "print(lbl.dim())"
   ]
  },
  {
   "cell_type": "code",
   "execution_count": null,
   "metadata": {},
   "outputs": [],
   "source": [
    "import keras\n",
    "from keras import backend as K\n",
    "print('\\nData format for Keras is:', K.image_data_format())"
   ]
  },
  {
   "cell_type": "code",
   "execution_count": null,
   "metadata": {},
   "outputs": [],
   "source": []
  }
 ],
 "metadata": {
  "kernelspec": {
   "display_name": "envParticle",
   "language": "python",
   "name": "envparticle"
  },
  "language_info": {
   "codemirror_mode": {
    "name": "ipython",
    "version": 2
   },
   "file_extension": ".py",
   "mimetype": "text/x-python",
   "name": "python",
   "nbconvert_exporter": "python",
   "pygments_lexer": "ipython2",
   "version": "2.7.14"
  }
 },
 "nbformat": 4,
 "nbformat_minor": 2
}
