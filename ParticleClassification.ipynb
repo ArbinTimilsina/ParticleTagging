{
 "cells": [
  {
   "cell_type": "markdown",
   "metadata": {},
   "source": [
    "# Particle Tagging"
   ]
  },
  {
   "cell_type": "markdown",
   "metadata": {},
   "source": [
    "## Classification"
   ]
  },
  {
   "cell_type": "markdown",
   "metadata": {},
   "source": [
    "### Load the training and test datasets"
   ]
  },
  {
   "cell_type": "code",
   "execution_count": 1,
   "metadata": {},
   "outputs": [
    {
     "name": "stdout",
     "output_type": "stream",
     "text": [
      "Welcome to JupyROOT 6.12/04\n",
      "Found 5000 images in training dataset!\n",
      "Found 5000 images in test dataset!\n",
      "Found 5000 labels in training dataset!\n",
      "Found 5000 labels in test dataset!\n"
     ]
    }
   ],
   "source": [
    "import ROOT\n",
    "from larcv import larcv\n",
    "\n",
    "train_image_chain = ROOT.TChain(\"image2d_data_tree\")\n",
    "train_image_chain.AddFile('InputFiles/classification_train_5k.root')\n",
    "print 'Found', train_image_chain.GetEntries(), 'images in training dataset!'\n",
    "\n",
    "test_image_chain = ROOT.TChain(\"image2d_data_tree\")\n",
    "test_image_chain.AddFile('InputFiles/classification_test_5k.root')\n",
    "print 'Found', test_image_chain.GetEntries(), 'images in test dataset!'\n",
    "\n",
    "train_label_chain = ROOT.TChain(\"particle_mctruth_tree\")\n",
    "train_label_chain.AddFile('InputFiles/classification_train_5k.root')\n",
    "print 'Found', train_label_chain.GetEntries(), 'labels in training dataset!'\n",
    "\n",
    "test_label_chain = ROOT.TChain(\"particle_mctruth_tree\")\n",
    "test_label_chain.AddFile('InputFiles/classification_test_5k.root')\n",
    "print 'Found', test_label_chain.GetEntries(), 'labels in test dataset!'"
   ]
  },
  {
   "cell_type": "markdown",
   "metadata": {},
   "source": [
    "### Tools to preprocess the images and labels for Keras"
   ]
  },
  {
   "cell_type": "code",
   "execution_count": 2,
   "metadata": {},
   "outputs": [],
   "source": [
    "import numpy as np\n",
    "import pandas as pd\n",
    "from tqdm import tqdm\n",
    "\n",
    "pdgToCategory =  {11   : 0, #electron\n",
    "                  22   : 1, #gamma\n",
    "                  13   : 2, #muon\n",
    "                  211  : 3, #pion\n",
    "                  2212 : 4} #proton\n",
    "\n",
    "def imageToTensor(imageToConvert):\n",
    "    # imageToConvert is a C++ class larcv::EventImage2D exposed to python interpreter\n",
    "    # Note here that std::vectors in pyroot are iterable\n",
    "    array2D = imageToConvert.as_vector()\n",
    "    #print('Type of image2d_array:', type(array2D))\n",
    "    #print('Number of images:', array2D.size())\n",
    "    array3D = []\n",
    "    for _, image in enumerate(array2D):\n",
    "        # larcv has a helper function to convert std::vector to numpy array, so we can use that:\n",
    "        numpyImage = larcv.as_ndarray(image)\n",
    "        array3D.append(numpyImage)\n",
    "        \n",
    "    tensor3D = np.dstack((array3D[0], array3D[1], array3D[2]))\n",
    "\n",
    "    # Convert 3D tensor to 4D tensor with shape (1, imageLength, imageHeight, 3) and return 4D tensor\n",
    "    return np.expand_dims(tensor3D, axis=0)\n",
    "\n",
    "def imageChainToTensor(imageChain):\n",
    "    listOfTensors = []\n",
    "    for entry in tqdm(xrange(imageChain.GetEntries())):\n",
    "        imageChain.GetEntry(entry)\n",
    "        entryData = imageChain.image2d_data_branch\n",
    "        listOfTensors.append(imageToTensor(entryData))\n",
    "    return listOfTensors\n",
    "\n",
    "def pdgToLabel(labelToConvert):\n",
    "    # imageToConvert is a C++ class larcv::EventImage2D exposed to python interpreter\n",
    "    # Note here that std::vectors in pyroot are iterable\n",
    "    arrayParticle = labelToConvert.as_vector()\n",
    "\n",
    "    array3D = []\n",
    "    for _, particle in enumerate(arrayParticle):\n",
    "        # larcv has a helper function to convert std::vector to numpy array, so we can use that:\n",
    "        numpyImage = larcv.as_ndarray(image)\n",
    "        array3D.append(numpyImage)\n",
    "        \n",
    "    tensor3D = np.dstack((array3D[0], array3D[1], array3D[2]))\n",
    "\n",
    "    # Convert 3D tensor to 4D tensor with shape (1, imageLength, imageHeight, 3) and return 4D tensor\n",
    "    return np.expand_dims(tensor3D, axis=0)\n",
    "\n",
    "def labelChainToArray(labelChain):\n",
    "    listOfLabels = []\n",
    "    for entry in tqdm(xrange(labelChain.GetEntries())):\n",
    "        labelChain.GetEntry(entry)\n",
    "        entryData = labelChain.particle_mctruth_branch\n",
    "        arrayParticle = entryData.as_vector()\n",
    "        for _, particle in enumerate(arrayParticle):\n",
    "            listOfLabels.append(pdgToCategory[particle.pdg_code()])\n",
    "    return np.array(listOfLabels)"
   ]
  },
  {
   "cell_type": "code",
   "execution_count": 3,
   "metadata": {},
   "outputs": [
    {
     "name": "stderr",
     "output_type": "stream",
     "text": [
      "100%|██████████| 5000/5000 [00:07<00:00, 695.60it/s]\n",
      "100%|██████████| 5000/5000 [00:07<00:00, 663.21it/s]"
     ]
    },
    {
     "name": "stdout",
     "output_type": "stream",
     "text": [
      "(1, 256, 256, 3)\n",
      "(1, 256, 256, 3)\n"
     ]
    },
    {
     "name": "stderr",
     "output_type": "stream",
     "text": [
      "\n"
     ]
    }
   ],
   "source": [
    "from PIL import ImageFile                            \n",
    "ImageFile.LOAD_TRUNCATED_IMAGES = True          \n",
    "\n",
    "# Convert every images to 4D tensors\n",
    "X_train = imageChainToTensor(train_image_chain)\n",
    "X_test = imageChainToTensor(test_image_chain)\n",
    "\n",
    "print X_train[0].shape\n",
    "print X_test[0].shape"
   ]
  },
  {
   "cell_type": "code",
   "execution_count": 6,
   "metadata": {},
   "outputs": [
    {
     "name": "stderr",
     "output_type": "stream",
     "text": [
      "100%|██████████| 5000/5000 [00:00<00:00, 24981.89it/s]\n",
      "100%|██████████| 5000/5000 [00:00<00:00, 25538.62it/s]\n"
     ]
    },
    {
     "name": "stdout",
     "output_type": "stream",
     "text": [
      "[[1. 0. 0. 0. 0.]\n",
      " [1. 0. 0. 0. 0.]\n",
      " [1. 0. 0. 0. 0.]\n",
      " [1. 0. 0. 0. 0.]\n",
      " [1. 0. 0. 0. 0.]\n",
      " [1. 0. 0. 0. 0.]\n",
      " [1. 0. 0. 0. 0.]\n",
      " [1. 0. 0. 0. 0.]\n",
      " [1. 0. 0. 0. 0.]\n",
      " [1. 0. 0. 0. 0.]]\n"
     ]
    }
   ],
   "source": [
    "from keras.utils import np_utils\n",
    "\n",
    "# There are 5 different particle types in the dataset\n",
    "num_classes = 5\n",
    "trainLabelArray = labelChainToArray(train_label_chain)\n",
    "testLabelArray = labelChainToArray(test_label_chain)\n",
    "\n",
    "y_train = np_utils.to_categorical(trainLabelArray, num_classes)\n",
    "y_test = np_utils.to_categorical(testLabelArray, num_classes)\n",
    "print y_train[:10]"
   ]
  },
  {
   "cell_type": "code",
   "execution_count": null,
   "metadata": {},
   "outputs": [],
   "source": []
  }
 ],
 "metadata": {
  "kernelspec": {
   "display_name": "Python 2",
   "language": "python",
   "name": "python2"
  },
  "language_info": {
   "codemirror_mode": {
    "name": "ipython",
    "version": 2
   },
   "file_extension": ".py",
   "mimetype": "text/x-python",
   "name": "python",
   "nbconvert_exporter": "python",
   "pygments_lexer": "ipython2",
   "version": "2.7.14"
  }
 },
 "nbformat": 4,
 "nbformat_minor": 2
}
